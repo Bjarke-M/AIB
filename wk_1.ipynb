{
 "cells": [
  {
   "attachments": {},
   "cell_type": "markdown",
   "metadata": {},
   "source": [
    "\n",
    "Teaching exercises week 1, algorithms in bioingotmatics\n",
    "\n",
    "Exercise 1.1\n",
    "Look at the exercise/example on slide 55 and forward in the slides from the lecture. Be sure that you understand how the dynamic programming table is filled according to the recursion, and how backtracking works.\n"
   ]
  },
  {
   "cell_type": "code",
   "execution_count": null,
   "metadata": {},
   "outputs": [],
   "source": [
    "\n",
    "import numpy as np\n",
    "\n",
    "cost_matrix = {'A': {'A': 0, 'T': 1, 'G': 1, 'C': 1},\n",
    "                'T': {'A': 1, 'T': 0, 'G': 1, 'C': 1},\n",
    "                'G': {'A': 1, 'T': 1, 'G': 0, 'C': 1},\n",
    "                'C': {'A': 1, 'T': 1, 'G': 1, 'C': 0}}\n",
    "\n",
    "def construct_matrix(i,j):\n",
    "    return np.zeros((len(i)+1,len(j)+1))\n",
    "\n",
    "def fill_out_matrix(seq1,seq2,cost_matrix):\n",
    "    matrix = construct_matrix(seq1,seq2)\n",
    "    for i in range(len(seq1)+1):\n",
    "        for j in range(len(seq2)+1):\n",
    "            if i==0 and j==0:\n",
    "                matrix[i,j]=0\n",
    "            elif i==0:\n",
    "                matrix[i][j]=matrix[i][j-1]+1\n",
    "            elif j==0:\n",
    "                matrix[i][j]=matrix[i-1][j]+1\n",
    "            else:\n",
    "                left = matrix[i][j-1]+1\n",
    "                above=matrix[i-1][j]+1\n",
    "                diagonal=matrix[i-1][j-1]+cost_matrix[seq1[i-1]][seq2[j-1]]\n",
    "                score=min(left,above,diagonal)\n",
    "                matrix[i][j]=score\n",
    "    return matrix\n",
    "\n",
    "print(fill_out_matrix('AGGT','ACTA',cost_matrix))"
   ]
  },
  {
   "attachments": {},
   "cell_type": "markdown",
   "metadata": {},
   "source": [
    "Let A[i] be the i'th symbol in A[1..n], and let B[j] be the j'th symbol in B[1..m]. Let cost(A[i],B[j]) be the cost of aligning symbol A[i] against symbol B[j] in a substitution column. Let gapcost be the cost of a gap column. Using this notation, we can generalize the recursion on slide 62 as:\n",
    "C(0,0) = 0\n",
    "C(i,j) = min {C(i-1,j-1)+cost(A[i],B[j] if i>0 and j>0,\n",
    "              C(i-1,j) + gapcost if i>0 and j>=0,\n",
    "              C(i,j-1) + gapcost if i >=0 and j>0}"
   ]
  },
  {
   "cell_type": "code",
   "execution_count": null,
   "metadata": {},
   "outputs": [],
   "source": []
  },
  {
   "attachments": {},
   "cell_type": "markdown",
   "metadata": {},
   "source": [
    "\n",
    "\n",
    "Exercise 1.2\n",
    "Gap cost and score matrix: Given two strings A[1..n] and B[1..m], we know how to compute the optimal (minimum) cost of an alignment of these strings when a gap-column costs 1, and a substitution-column costs 0 if it aligns two identical symbols, and 1 otherwise. Using the scoring system, we say that the gapcost is 1, and that the score matrix is\n",
    "\n",
    "  A C G T\n",
    "A 0 1 1 1\n",
    "C 1 0 1 1\n",
    "G 1 1 0 1\n",
    "T 1 1 1 0\n",
    "\n",
    "if the two strings represent DNA sequences over the alphabet {A,C,G,T}.\n",
    "\n",
    "How should we change the recursion/algorithm presented in the lecture if we want to compute the optimal cost of an alignment using a different gapcost and/or score matrix?\n",
    "\n",
    "Answer: Just change the scores in the score_matrix and the gap_cost \n",
    "\n",
    "\n",
    "In the lecture, we defined the optimal cost of an alignment as the minimum cost. Sometimes it makes more sense to define the optimal score cost of an alignment as the maximum cost.\n",
    "\n",
    "How should we change the recursion/algorithm presented in the lecture if we want to compute an alignment of maximum cost?\n",
    "\n",
    "Change how we fill it out always choosing the max instead of the min. and when we traceback we should take it into account aswell.\n",
    "\n"
   ]
  },
  {
   "cell_type": "code",
   "execution_count": null,
   "metadata": {},
   "outputs": [],
   "source": [
    "import numpy as np\n",
    "\n",
    "cost_matrix = {'A': {'A': 1, 'T': 0, 'G': 0, 'C': 0},\n",
    "                'T': {'A': 0, 'T': 1, 'G': 0, 'C': 0},\n",
    "                'G': {'A': 0, 'T': 0, 'G': 1, 'C': 0},\n",
    "                'C': {'A': 0, 'T': 0, 'G': 0, 'C': 1}}\n",
    "\n",
    "def construct_matrix(i,j):\n",
    "    return np.zeros((len(i)+1,len(j)+1))\n",
    "\n",
    "def fill_out_matrix(seq1,seq2,cost_matrix):\n",
    "    matrix = construct_matrix(seq1,seq2)\n",
    "    for i in range(len(seq1)+1):\n",
    "        for j in range(len(seq2)+1):\n",
    "            if i==0 and j==0:\n",
    "                matrix[i,j]=0\n",
    "            elif i==0:\n",
    "                matrix[i][j]=matrix[i][j-1]\n",
    "            elif j==0:\n",
    "                matrix[i][j]=matrix[i-1][j]\n",
    "            else:\n",
    "                left = matrix[i][j-1]+0\n",
    "                above=matrix[i-1][j]+0\n",
    "                diagonal=matrix[i-1][j-1]+cost_matrix[seq1[i-1]][seq2[j-1]]\n",
    "                score=max(left,above,diagonal)\n",
    "                matrix[i][j]=score\n",
    "    return matrix\n",
    "\n",
    "print(fill_out_matrix('AGGT','ACTA',cost_matrix))"
   ]
  },
  {
   "attachments": {},
   "cell_type": "markdown",
   "metadata": {},
   "source": [
    "which says that an optimal alignment is an alignment with minimum score. If we want that the an optimal alignment is an alignment with maximum score, then the above recursion should be:\n",
    "\n",
    "C(0,0) = 0\n",
    "C(i,j) = max {C(i-1,j-1)+cost(A[i],B[j] if i>0 and j>0,\n",
    "              C(i-1,j) + gapcost if i>0 and j>=0,\n",
    "              C(i,j-1) + gapcost if i>=0 and j>0}"
   ]
  },
  {
   "attachments": {},
   "cell_type": "markdown",
   "metadata": {},
   "source": [
    "\n",
    "Exercise 1.3\n",
    "Unit cost edit distance: Given two strings A[1..n] and B[1..m], the unit cost edit distance is the minimum number of insertions, deletions, and substitutions of single symbols which can transform A into B. This number can be computed using the global alignment recursion (based on minimization) and a particular choice of score matrix and gap cost. Which score matrix and gap cost?\n"
   ]
  },
  {
   "attachments": {},
   "cell_type": "markdown",
   "metadata": {},
   "source": [
    "\n",
    "\n",
    "ANSWER: \n",
    "The same as above, but with a different cost matrix. \n",
    "If we want the score of an optimal alignment of A[1..n] and B[1..m] to be the edit distance between A and B, then we can use the score system from the lecture, i.e. where the score matrix is\n",
    "\n",
    "  A C G T\n",
    "A 0 1 1 1\n",
    "C 1 0 1 1\n",
    "G 1 1 0 1\n",
    "T 1 1 1 0\n",
    "and gapcost = 1 and the objective is to minimize the score. Here score of an alignment is the number of substitutions, insertions and deletions described by the alignment, i.e. the score of a minimum scoring alignment (an optimal alignment) is the edit distance.\n",
    "\n",
    "\n",
    "\n",
    "Exercise 1.4\n",
    "Longest common subsequence: Given two strings A[1..n] and B[1..m], the longest common subsequence (LCS) is the longest sequence of symbols which are subsequences of the two strings. E.g. an LCS of acgt and atgc is ag. This number can be computed using the global alignment recursion (based on maximization) and a particular choice of score matrix and gap cost. Which score matrix and gap cost?\n",
    "\n",
    "If we want the score of an optimal alignment of A[1..n] and B[1..m] to be the legth of the longest common subsequence of A and B, then we can use a score system where the score matrix is\n",
    "\n",
    "  A C G T\n",
    "A 1 0 0 0\n",
    "C 0 1 0 0\n",
    "G 0 0 1 0\n",
    "T 0 0 0 1\n",
    "\n",
    "and gapcost = 0, and the objective is to maximize the score. Here the score of an alignment is the number of match column (i.e. substitutions of identical symbols), i.e. the score of a maximum scoring alignment (an optimal alignment) is the length of the longest common subsequence of A and B.\n"
   ]
  },
  {
   "cell_type": "code",
   "execution_count": 2,
   "metadata": {},
   "outputs": [
    {
     "name": "stdout",
     "output_type": "stream",
     "text": [
      "[[0. 0. 0. 0. 0. 0. 0. 0.]\n",
      " [0. 1. 1. 1. 1. 1. 1. 1.]\n",
      " [0. 1. 2. 2. 2. 2. 2. 2.]\n",
      " [0. 1. 2. 3. 3. 3. 3. 3.]\n",
      " [0. 1. 2. 3. 4. 4. 4. 4.]\n",
      " [0. 1. 2. 3. 4. 5. 5. 5.]]\n"
     ]
    }
   ],
   "source": [
    "import numpy as np\n",
    "\n",
    "cost_matrix = {'A': {'A': 1, 'T': 0, 'G': 0, 'C': 0},\n",
    "                'T': {'A': 0, 'T': 1, 'G': 0, 'C': 0},\n",
    "                'G': {'A': 0, 'T': 0, 'G': 1, 'C': 0},\n",
    "                'C': {'A': 0, 'T': 0, 'G': 0, 'C': 1}}\n",
    "\n",
    "def construct_matrix(i,j):\n",
    "    return np.zeros((len(i)+1,len(j)+1))\n",
    "\n",
    "def fill_out_matrix(seq1,seq2,cost_matrix):\n",
    "    matrix = construct_matrix(seq1,seq2)\n",
    "    for i in range(len(seq1)+1):\n",
    "        for j in range(len(seq2)+1):\n",
    "            if i==0 and j==0:\n",
    "                matrix[i,j]=0\n",
    "            elif i==0:\n",
    "                matrix[i][j]=matrix[i][j-1]\n",
    "            elif j==0:\n",
    "                matrix[i][j]=matrix[i-1][j]\n",
    "            else:\n",
    "                left = matrix[i][j-1]+0\n",
    "                above=matrix[i-1][j]+0\n",
    "                diagonal=matrix[i-1][j-1]+cost_matrix[seq1[i-1]][seq2[j-1]]\n",
    "                score=max(left,above,diagonal)\n",
    "                matrix[i][j]=score\n",
    "    return matrix\n",
    "\n",
    "print(fill_out_matrix('AGGGG','AGGGGTC',cost_matrix))"
   ]
  },
  {
   "attachments": {},
   "cell_type": "markdown",
   "metadata": {},
   "source": [
    "Exercise 1.5\n",
    "Number of possible alignments: Give a non-trivial lower- and upper-bound of the number of possible alignments of two strings of length n. Can you make a program that counts the exact number of possible alignments of two strings of lengths n and m?\n"
   ]
  },
  {
   "cell_type": "code",
   "execution_count": 28,
   "metadata": {},
   "outputs": [
    {
     "name": "stdout",
     "output_type": "stream",
     "text": [
      "6.0\n"
     ]
    }
   ],
   "source": [
    "def possible_alignments_rec(n,m):\n",
    "    if n==0 or m==0:\n",
    "        return 1\n",
    "    else:\n",
    "        return possible_alignments(n-1,m)+possible_alignments(n,m-1)\n",
    "\n",
    "#non recursive\n",
    "def factorial(x):\n",
    "    if x==0:\n",
    "        return 1\n",
    "    else:\n",
    "        return x*factorial(x-1)\n",
    "\n",
    "def possible_alignments(n,m):\n",
    "    return factorial(m+n)/(factorial(m)*factorial(n))\n",
    "\n",
    "\n",
    "\n",
    "print(possible_alignments(2,2))\n",
    "\n",
    "print(possible_alignments_rec(2,2))\n",
    "\n"
   ]
  },
  {
   "attachments": {},
   "cell_type": "markdown",
   "metadata": {},
   "source": [
    "An alignment of A[1..n] and B[1..m] has at most n+m columns. Since each of these columns can be chosen among at most three types of columns (substitution, insertion and deletion), theb there are atmost \n",
    "\n",
    "3^{n+m}\n",
    "\n",
    "alignments of A and B. Since an alignment of A and B has at least min(n,m) columns that can be chosen among the three types of columns, then there is at least\n",
    "\n",
    "3^min(n,m)\n",
    "\n",
    "alignments of A and B."
   ]
  },
  {
   "attachments": {},
   "cell_type": "markdown",
   "metadata": {},
   "source": [
    "Exercise 1.6\n",
    "In the mandatory projects, you will be asked to implement various algorithm. This also includes reading data from files. In the first projects, this will be sequence data stored in FASTA-files. You can use any programming languages and libraries you want. If you use Python, then Biopython (in particular Bio.SeqIO is useful for handling data stores in FASTA files) or scikit-bio are useful libraries. The Biopython Tutorial and Cookbook contains good documents of how to use Biopython. Write a small program that can read in a sequence from a FASTA-files using a programming language of your choice, e.g. Python in combination of Biopython.  You can use the FASTA files referred to in project\n"
   ]
  },
  {
   "cell_type": "code",
   "execution_count": 29,
   "metadata": {},
   "outputs": [],
   "source": [
    "from Bio import SeqIO\n",
    "\n",
    "def fasta_parser(input_file,output_file):\n",
    "    with open(input_file,'r') as f:\n",
    "        for fasta in SeqIO.parse(f,'fasta'):\n",
    "            name, sequence = fasta.id, fasta.seqpib\n",
    "            with open(output_file,'w') as q:\n",
    "                q.write('>')\n",
    "                q.write(name)\n",
    "                q.write('\\n')\n",
    "                print(str(sequence))\n",
    "                q.write(str(sequence))\n",
    "    return None\n",
    "\n",
    "def fasta_seq(input_file):\n",
    "    seqs = []\n",
    "    with open(input_file,'r') as f:\n",
    "        for fasta in SeqIO.parse(f,'fasta'):\n",
    "            name, sequence = fasta.id, fasta.seq\n",
    "            seqs.append(str(sequence))\n",
    "    return seqs\n",
    "\n",
    "\n",
    "a = 'seq1.fasta'\n",
    "b = 'test.fasta'\n",
    "\n",
    "\n",
    "class fasta:\n",
    "    def __init__(self,fasta_file):\n",
    "        self.fasta_file = fasta_file\n",
    "        self.sequences = []\n",
    "        self.names = []\n",
    "        self.parse_fasta()\n",
    "    def parse_fasta(self):\n",
    "        with open(self.fasta_file,'r') as f:\n",
    "            for fasta in SeqIO.parse(f,'fasta'):\n",
    "                name, sequence = fasta.id, fasta.seq\n",
    "                self.sequences.append(str(sequence))\n",
    "                self.names.append(name)\n",
    "    def get_sequences(self):\n",
    "        return self.sequences\n",
    "    def get_names(self): \n",
    "        return self.names\n",
    "\n"
   ]
  }
 ],
 "metadata": {
  "kernelspec": {
   "display_name": "base",
   "language": "python",
   "name": "python3"
  },
  "language_info": {
   "codemirror_mode": {
    "name": "ipython",
    "version": 3
   },
   "file_extension": ".py",
   "mimetype": "text/x-python",
   "name": "python",
   "nbconvert_exporter": "python",
   "pygments_lexer": "ipython3",
   "version": "3.9.16"
  },
  "orig_nbformat": 4,
  "vscode": {
   "interpreter": {
    "hash": "b51e41c78b452a221c33d206c43f56fa3eb9b6d5b214a94d474df96be263b739"
   }
  }
 },
 "nbformat": 4,
 "nbformat_minor": 2
}
