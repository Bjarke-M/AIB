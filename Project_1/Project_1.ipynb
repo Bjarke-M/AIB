{
 "cells": [
  {
   "attachments": {},
   "cell_type": "markdown",
   "metadata": {},
   "source": [
    "Problem\n",
    "Consider the following substitution maxtrix for DNA sequences:\n",
    "\n",
    "   A  C  G  T    \n",
    "A 10  2  5  2    \n",
    "C  2 10  2  5    \n",
    "G  5  2 10  2    \n",
    "T  2  5  2 10  \n"
   ]
  },
  {
   "cell_type": "markdown",
   "metadata": {},
   "source": [
    "\n",
    "\n",
    "Question 1: What is the optimal (here maximal) cost of an alignment of AATAAT and AAGG using the above substitution matrix and gap cost -5?"
   ]
  },
  {
   "cell_type": "code",
   "execution_count": 25,
   "metadata": {},
   "outputs": [
    {
     "name": "stdout",
     "output_type": "stream",
     "text": [
      "[[  0.  -5. -10. -15. -20.]\n",
      " [ -5.  10.   5.   0.  -5.]\n",
      " [-10.   5.  20.  15.  10.]\n",
      " [-15.   0.  15.  22.  17.]\n",
      " [-20.  -5.  10.  20.  27.]\n",
      " [-25. -10.   5.  15.  25.]\n",
      " [-30. -15.   0.  10.  20.]]\n"
     ]
    }
   ],
   "source": [
    "import numpy as np\n",
    "\n",
    "# Define the substitution matrix\n",
    "substitution_matrix ={'A': {'A': 10, 'C': 2, 'G': 5, 'T': 2}, \n",
    "                    'C': {'A': 2, 'C': 10, 'G': 2, 'T': 5}, \n",
    "                    'G': {'A': 5, 'C': 2, 'G': 10, 'T': 2}, \n",
    "                    'T': {'A': 2, 'C': 5, 'G': 2, 'T': 10}}\n",
    "\n",
    "def linear_gap_cost_matrix(seq1:str, seq2:str, gap_cost:int, substitution_matrix:dict):\n",
    "    \"\"\" This function takes two sequences, a gap cost and a substitution matrix and returns the cost matrix for the alignment of the two sequences. \"\"\"\n",
    "    n = len(seq1) + 1\n",
    "    m = len(seq2) + 1\n",
    "    # Initialize the matrices\n",
    "    M = np.zeros((n, m))\n",
    "    for i in range(1, n):\n",
    "        M[i][0] =  gap_cost * i\n",
    "    for j in range(1, m):\n",
    "        M[0][j] =  gap_cost * j\n",
    "    for i in range(1, n):\n",
    "        for j in range(1, m):\n",
    "            substitution_cost = substitution_matrix[seq1[i-1]][seq2[j-1]]\n",
    "            M[i][j] = max(M[i-1][j-1] + substitution_cost, M[i][j-1] + gap_cost, M[i-1][j] + gap_cost)\n",
    "    return M\n",
    "\n",
    "\n",
    "\n",
    "print(linear_gap_cost_matrix('AATAAT', 'AAGG', -5, substitution_matrix))"
   ]
  },
  {
   "attachments": {},
   "cell_type": "markdown",
   "metadata": {},
   "source": [
    "Question 2: What is the optimal (here maximal) cost of an alignment of seq1.fasta and seq2.fasta using the same substitution matrix and gap cost? (You probably want to implement the algorithm for computing the cost of an optimal alignment.)"
   ]
  },
  {
   "cell_type": "code",
   "execution_count": 26,
   "metadata": {},
   "outputs": [
    {
     "name": "stdout",
     "output_type": "stream",
     "text": [
      "[[   0.   -5.  -10. ... -980. -985. -990.]\n",
      " [  -5.   10.    5. ... -965. -970. -975.]\n",
      " [ -10.    5.   20. ... -950. -955. -960.]\n",
      " ...\n",
      " [-980. -965. -950. ... 1326. 1321. 1316.]\n",
      " [-985. -970. -955. ... 1321. 1336. 1331.]\n",
      " [-990. -975. -960. ... 1321. 1331. 1346.]]\n"
     ]
    }
   ],
   "source": [
    "from Bio import SeqIO\n",
    "\n",
    "def fasta_seq(input_file):\n",
    "    with open(input_file,'r') as f:\n",
    "        for i in SeqIO.parse(f,'fasta'): sequence = i.seq\n",
    "    return str(sequence)\n",
    "\n",
    "a = fasta_seq('seq1.fasta')\n",
    "b = fasta_seq('seq2.fasta')\n",
    "\n",
    "print(linear_gap_cost_matrix(a, b, -5, substitution_matrix))"
   ]
  },
  {
   "cell_type": "code",
   "execution_count": 33,
   "metadata": {},
   "outputs": [
    {
     "name": "stdout",
     "output_type": "stream",
     "text": [
      "('AATAAT', 'AA-GG-')\n"
     ]
    }
   ],
   "source": [
    "def back_tracking(seq1,seq2,substitution_matrix, matrix,gap_cost):\n",
    "    \"\"\" This function takes two sequences, a substitution matrix, a cost matrix and a gap cost and returns the optimal alignment of the two sequences. \"\"\"\n",
    "    n, m, = len(seq1), len(seq2)\n",
    "    i, j = n, m\n",
    "    alignment1, alignment2 = '', ''\n",
    "    while i > 0 and j > 0:\n",
    "        if matrix[i][j] == matrix[i-1][j-1] + substitution_matrix[seq1[i-1]][seq2[j-1]]:\n",
    "            alignment1 += seq1[i-1]\n",
    "            alignment2 += seq2[j-1]\n",
    "            i -= 1\n",
    "            j -= 1\n",
    "        elif matrix[i][j] == matrix[i][j-1] + gap_cost:\n",
    "            alignment1 += '-'\n",
    "            alignment2 += seq2[j-1]\n",
    "            j -= 1\n",
    "        elif matrix[i][j] == matrix[i-1][j] + gap_cost:\n",
    "            alignment1 += seq1[i-1]\n",
    "            alignment2 += '-'\n",
    "            i -= 1\n",
    "    while i > 0:\n",
    "        alignment1 += seq1[i-1]\n",
    "        alignment2 += '-'\n",
    "        i -= 1\n",
    "    while j > 0:\n",
    "        alignment1 += '-'\n",
    "        alignment2 += seq2[j-1]\n",
    "        j -= 1\n",
    "    return (alignment1[::-1], alignment2[::-1])\n",
    "\n",
    "\n",
    "substitution_matrix ={'A': {'A': 10, 'C': 2, 'G': 5, 'T': 2}, \n",
    "                    'C': {'A': 2, 'C': 10, 'G': 2, 'T': 5}, \n",
    "                    'G': {'A': 5, 'C': 2, 'G': 10, 'T': 2}, \n",
    "                    'T': {'A': 2, 'C': 5, 'G': 2, 'T': 10}}\n",
    "\n",
    "m1 = linear_gap_cost_matrix('AATAAT', 'AAGG', -5, substitution_matrix)\n",
    "print(back_tracking('AATAAT', 'AAGG', substitution_matrix, m1, -5))\n"
   ]
  }
 ],
 "metadata": {
  "kernelspec": {
   "display_name": "base",
   "language": "python",
   "name": "python3"
  },
  "language_info": {
   "codemirror_mode": {
    "name": "ipython",
    "version": 3
   },
   "file_extension": ".py",
   "mimetype": "text/x-python",
   "name": "python",
   "nbconvert_exporter": "python",
   "pygments_lexer": "ipython3",
   "version": "3.9.16"
  },
  "orig_nbformat": 4,
  "vscode": {
   "interpreter": {
    "hash": "b51e41c78b452a221c33d206c43f56fa3eb9b6d5b214a94d474df96be263b739"
   }
  }
 },
 "nbformat": 4,
 "nbformat_minor": 2
}
