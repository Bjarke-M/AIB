{
 "cells": [
  {
   "attachments": {},
   "cell_type": "markdown",
   "metadata": {},
   "source": [
    "Exercise 4.1\n",
    "Explain why SP-score is not column based if the score function used to score the pairwise induced alignments (PairScore) is global alignment with affine gap cost.\n",
    "\n"
   ]
  },
  {
   "attachments": {},
   "cell_type": "markdown",
   "metadata": {},
   "source": [
    "it would no longer be the sum of all coloums of all pairs as it would now be a funcion of the gap length (is my geuss)\n",
    "\n",
    " the use of global alignment with affine gap cost in PairScore means that the resulting SP-score is not solely dependent on the columns of the alignment, but also takes into account gap penalties and unaligned regions of the sequences being aligned\n"
   ]
  },
  {
   "attachments": {},
   "cell_type": "markdown",
   "metadata": {},
   "source": [
    "\n",
    "Exercise 4.2\n",
    "On slide 12 in the slides about multiple alignment, we compute D(i1,...,ik) by a minimization over all possible last columns in an alignment of S1[1..i1],...,Sk[1..ik]. For k=3 we must minimize over 7 possible last columns, for k=4 we must minimize over 15 possible last columns etc. For a particular value of k, we must minimize over 2k-1 possible last columns. Explain how to implement an iteration over \"all possible last columns\" (efficiently) in your favorite programming language.\n"
   ]
  },
  {
   "attachments": {},
   "cell_type": "markdown",
   "metadata": {},
   "source": [
    "if we want to do it over multiple seqs we would have to adopt the idear were we make pairwise alignments of all seqs to seq1 and sum over all the las colums right?"
   ]
  },
  {
   "cell_type": "code",
   "execution_count": null,
   "metadata": {},
   "outputs": [],
   "source": [
    "def naive_multiple_allignment(seqs: list, scoring_matrix: dict, gap_penalty: int):\n",
    "    '''Naive multiple sequence alignment'''\n",
    "    # Initialize the alignment matrix\n",
    "    "
   ]
  },
  {
   "attachments": {},
   "cell_type": "markdown",
   "metadata": {},
   "source": [
    "\n",
    "\n",
    "Exercise 4.3\n",
    "How long does it take to compute the score of an optimal multiple alignment (with column based SP-score) of 3 sequences of length 200 on your computer? (You can of course implement the method and measure its running time, but you are also welcome to think about other ways of calculating a good estimate of the running time).\n",
    "\n",
    "\n",
    "How long do you estimate it takes to compute the score of an multiple optimal alignment (with column based SP-score) of 5 sequences of length 200 on the same computer (assume that you have sufficient space).\n"
   ]
  },
  {
   "cell_type": "code",
   "execution_count": 13,
   "metadata": {},
   "outputs": [
    {
     "name": "stdout",
     "output_type": "stream",
     "text": [
      "384000000\n",
      "3.84\n",
      "102400000000000\n",
      "1024000.0\n",
      "17066.666666666668\n",
      "711.1111111111112\n",
      "1.9482496194824965\n"
     ]
    }
   ],
   "source": [
    "#Time: O(nk · 2k · “time to compute cost of last column”)\n",
    "#Space: O(nk)\n",
    "\n",
    "#3 x 200\n",
    "f_3 = (200**3)*2*3*(2**3)\n",
    "print(f_3)\n",
    "#100.000.000 op/sec\n",
    "print(f_3/100000000)\n",
    "\n",
    "\n",
    "#5 x 200\n",
    "f_5 = (200**5)*2*5*(2**5)\n",
    "print(f_5)\n",
    "#100.000.000 op/sec\n",
    "secs = f_5/100000000\n",
    "print(secs)\n",
    "print(secs/60)\n",
    "print(secs/60/24)\n",
    "print(secs/60/24/365)\n"
   ]
  },
  {
   "cell_type": "code",
   "execution_count": 14,
   "metadata": {},
   "outputs": [
    {
     "name": "stdout",
     "output_type": "stream",
     "text": [
      "(60.0, array([[[ 0.,  0.,  0.],\n",
      "        [ 0.,  0.,  0.],\n",
      "        [ 0.,  0.,  0.]],\n",
      "\n",
      "       [[ 0.,  0.,  0.],\n",
      "        [ 0., 30., 25.],\n",
      "        [ 0., 25., 30.]],\n",
      "\n",
      "       [[ 0.,  0.,  0.],\n",
      "        [ 0., 25., 30.],\n",
      "        [ 0., 30., 60.]]]))\n"
     ]
    }
   ],
   "source": [
    "import numpy as np\n",
    "substitution_matrix ={'A': {'A': 10, 'C': 2, 'G': 5, 'T': 2}, \n",
    "                    'C': {'A': 2, 'C': 10, 'G': 2, 'T': 5}, \n",
    "                    'G': {'A': 5, 'C': 2, 'G': 10, 'T': 2}, \n",
    "                    'T': {'A': 2, 'C': 5, 'G': 2, 'T': 10}}\n",
    "\n",
    "\n",
    "def alignment_of_3_seqs(seq1,seq2,seq3,gapcost=-5):\n",
    "    t = np.zeros((len(seq1)+1,len(seq2)+1,len(seq3)+1))\n",
    "    for i in range(1,len(seq1)+1):\n",
    "        for j in range(1,len(seq2)+1):\n",
    "            for k in range(1,len(seq3)+1):\n",
    "                v0 = v1 = v2 = v3 = v4 = v5 = v6 = v7 = -np.inf\n",
    "                if i==0 and j==0 and k==0:\n",
    "                    v0 = 0\n",
    "                if i > 0 and j > 0 and k > 0:\n",
    "                    v1 = t[i-1,j-1,k-1] + substitution_matrix[seq1[i-1]][seq2[j-1]] + substitution_matrix[seq2[j-1]][seq3[k-1]] + substitution_matrix[seq1[i-1]][seq3[k-1]]\n",
    "                if i > 0 and j > 0 and k >= 0:\n",
    "                    v2 = t[i-1,j-1,k] + substitution_matrix[seq1[i-1]][seq2[j-1]] + gapcost + gapcost\n",
    "                if i > 0 and j >= 0 and k > 0:\n",
    "                    v3 = t[i-1,j,k-1] + substitution_matrix[seq1[i-1]][seq3[k-1]] + gapcost + gapcost\n",
    "                if i >= 0 and j > 0 and k > 0:\n",
    "                    v4 = t[i,j-1,k-1] + substitution_matrix[seq2[j-1]][seq3[k-1]] + gapcost + gapcost\n",
    "                if i > 0 and j >= 0 and k >= 0:\n",
    "                    v5 = t[i-1,j,k] + substitution_matrix[seq1[i-1]][seq2[j-1]] + gapcost + gapcost\n",
    "                if i >= 0 and j > 0 and k >= 0:\n",
    "                    v6 = t[i,j-1,k] + substitution_matrix[seq2[j-1]][seq3[k-1]] + gapcost + gapcost\n",
    "                if i >= 0 and j >= 0 and k > 0:\n",
    "                    v7 = t[i,j,k-1] + substitution_matrix[seq1[i-1]][seq3[k-1]] + gapcost + gapcost\n",
    "                t[i,j,k] = max(v0,v1,v2,v3,v4,v5,v6,v7)\n",
    "    return t[len(seq1),len(seq2),len(seq3)], t\n",
    "\n",
    "print(alignment_of_3_seqs('AG','AG','AG'))"
   ]
  },
  {
   "attachments": {},
   "cell_type": "markdown",
   "metadata": {},
   "source": [
    "\n",
    "\n",
    "Exercise 4.4\n",
    "In the 2-approximation algorithm for SP MSA, we say (slide 2 from the lecture) that if d(x,y) is a metric between characters, then weighted edit distance between two strings, S and S', based on d, is also a metric. Argue why.\n"
   ]
  },
  {
   "cell_type": "markdown",
   "metadata": {},
   "source": []
  },
  {
   "attachments": {},
   "cell_type": "markdown",
   "metadata": {},
   "source": [
    "\n",
    "\n",
    "Exercise 4.5\n",
    "On slide 11 in the slides about the 2-approximation algorithm is an example showing how to extend M3 to M4 based on a given alignment of S1 and S4. Say that we have the following alignment of S1 and S5:\n",
    "\n",
    "-ac-gt\n",
    "g-tagt\n",
    "Show how to extend M4 to M5 based on this alignment, and show that the scores of the pairwise alignments of S1 against S2, S3, and S4 as induced by M4 and M5 are the same.\n",
    "\n"
   ]
  },
  {
   "cell_type": "markdown",
   "metadata": {},
   "source": []
  },
  {
   "cell_type": "markdown",
   "metadata": {},
   "source": [
    "\n",
    "Exercise 4.6\n",
    "On slide 12 in the slides about the 2-approximation algorithm it is shown how the MSA is constructed iteratively by extending an MSA Mi-1of S1,...,Si-1 to an MSA Mi of S1,...,Si based on an optimal pairwise alignment of S1 and Si. The final MSA Mk must obey that the induced pairwise alignment of S1 and Si, for any i, is an optimal pairwise alignment of S1 and Si.\n",
    "\n",
    "Consider the following 4 sequences: S1=act, S2=agct, S3=aact, and S4=acct. Since we cf. slide 2 have a metric score function, optimal pairwise alignments between S1 and the other 3 sequences are:\n",
    "\n",
    "a-ct\n",
    "agct\n",
    "\n",
    "a-ct\n",
    "aact\n",
    "\n",
    "a-ct\n",
    "acct\n",
    "The following two multiple alignments both obey that the induced pairwise alignment of S1 and Si, for any i, is an optimal pairwise alignment of S1 and Si, i.e. they are both possible outcomes of the approxmation algorithm depending on how one chooses to implement it. Which of the two alignment do you prefer? Why?\n",
    "\n",
    "a-ct\n",
    "agct\n",
    "aact\n",
    "acct\n",
    "a---ct\n",
    "ag--ct\n",
    "a-a-ct\n",
    "a--cat"
   ]
  }
 ],
 "metadata": {
  "kernelspec": {
   "display_name": "base",
   "language": "python",
   "name": "python3"
  },
  "language_info": {
   "codemirror_mode": {
    "name": "ipython",
    "version": 3
   },
   "file_extension": ".py",
   "mimetype": "text/x-python",
   "name": "python",
   "nbconvert_exporter": "python",
   "pygments_lexer": "ipython3",
   "version": "3.9.16"
  },
  "orig_nbformat": 4,
  "vscode": {
   "interpreter": {
    "hash": "b51e41c78b452a221c33d206c43f56fa3eb9b6d5b214a94d474df96be263b739"
   }
  }
 },
 "nbformat": 4,
 "nbformat_minor": 2
}
