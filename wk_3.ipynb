{
 "cells": [
  {
   "attachments": {},
   "cell_type": "markdown",
   "metadata": {},
   "source": [
    "Exercise 3.1\n",
    "Consider the following substitution matrix for DNA sequences:\n",
    "\n",
    "     A  C  G  T    \n",
    "  A 10  2  5  2   \n",
    "  C  2 10  2  5   \n",
    "  G  5  2 10  2    \n",
    "  T  2  5  2 10\n",
    " \n",
    "What is the optimal (i.e. maximal) cost of a local alignment of AATAAT and AAGG using the above substitution matrix and a gap cost of -5? and gap cost 0?"
   ]
  },
  {
   "cell_type": "code",
   "execution_count": 4,
   "metadata": {},
   "outputs": [
    {
     "name": "stdout",
     "output_type": "stream",
     "text": [
      "(27.0, array([[ 0.,  0.,  0.,  0.,  0.],\n",
      "       [ 0., 10., 10.,  5.,  5.],\n",
      "       [ 0., 10., 20., 15., 10.],\n",
      "       [ 0.,  5., 15., 22., 17.],\n",
      "       [ 0., 10., 15., 20., 27.],\n",
      "       [ 0., 10., 20., 20., 25.],\n",
      "       [ 0.,  5., 15., 22., 22.]]))\n",
      "(30.0, array([[ 0.,  0.,  0.,  0.,  0.],\n",
      "       [ 0., 10., 10., 10., 10.],\n",
      "       [ 0., 10., 20., 20., 20.],\n",
      "       [ 0., 10., 20., 22., 22.],\n",
      "       [ 0., 10., 20., 25., 27.],\n",
      "       [ 0., 10., 20., 25., 30.],\n",
      "       [ 0., 10., 20., 25., 30.]]))\n"
     ]
    }
   ],
   "source": [
    "substitution_matrix ={'A': {'A': 10, 'C': 2, 'G': 5, 'T': 2}, \n",
    "                    'C': {'A': 2, 'C': 10, 'G': 2, 'T': 5}, \n",
    "                    'G': {'A': 5, 'C': 2, 'G': 10, 'T': 2}, \n",
    "                    'T': {'A': 2, 'C': 5, 'G': 2, 'T': 10}}\n",
    "\n",
    "import numpy as np\n",
    "\n",
    "def local_gap_cost_matrix(seq1:str, seq2:str, gap_cost:int, substitution_matrix:dict):\n",
    "    \"\"\" This function takes two sequences, a gap cost and a substitution matrix and returns the cost matrix for the alignment of the two sequences. \"\"\"\n",
    "    n = len(seq1) + 1\n",
    "    m = len(seq2) + 1\n",
    "    # Initialize the matrices\n",
    "    M = np.zeros((n, m))\n",
    "    for i in range(1, n):\n",
    "        M[i][0] =  0* i\n",
    "    for j in range(1, m):\n",
    "        M[0][j] =  0 * j\n",
    "    for i in range(1, n):\n",
    "        for j in range(1, m):\n",
    "            substitution_cost = substitution_matrix[seq1[i-1]][seq2[j-1]]\n",
    "            M[i][j] = max(M[i-1][j-1] + substitution_cost, M[i][j-1] + gap_cost, M[i-1][j] + gap_cost, 0)\n",
    "    return M.max(), M\n",
    "\n",
    "\n",
    "print(local_gap_cost_matrix('AATAAT', 'AAGG', -5, substitution_matrix))\n",
    "print(local_gap_cost_matrix('AATAAT', 'AAGG', 0, substitution_matrix))"
   ]
  },
  {
   "cell_type": "code",
   "execution_count": 5,
   "metadata": {},
   "outputs": [
    {
     "name": "stdout",
     "output_type": "stream",
     "text": [
      "(20.0, array([[  0.,  -5., -10., -15., -20.],\n",
      "       [ -5.,  10.,   5.,   0.,  -5.],\n",
      "       [-10.,   5.,  20.,  15.,  10.],\n",
      "       [-15.,   0.,  15.,  22.,  17.],\n",
      "       [-20.,  -5.,  10.,  20.,  27.],\n",
      "       [-25., -10.,   5.,  15.,  25.],\n",
      "       [-30., -15.,   0.,  10.,  20.]]))\n",
      "(30.0, array([[ 0.,  0.,  0.,  0.,  0.],\n",
      "       [ 0., 10., 10., 10., 10.],\n",
      "       [ 0., 10., 20., 20., 20.],\n",
      "       [ 0., 10., 20., 22., 22.],\n",
      "       [ 0., 10., 20., 25., 27.],\n",
      "       [ 0., 10., 20., 25., 30.],\n",
      "       [ 0., 10., 20., 25., 30.]]))\n"
     ]
    }
   ],
   "source": [
    "def global_gap_cost_matrix(seq1:str, seq2:str, gap_cost:int, substitution_matrix:dict):\n",
    "    \"\"\" This function takes two sequences, a gap cost and a substitution matrix and returns the cost matrix for the alignment of the two sequences. \"\"\"\n",
    "    n = len(seq1) + 1\n",
    "    m = len(seq2) + 1\n",
    "    # Initialize the matrices\n",
    "    M = np.zeros((n, m))\n",
    "    for i in range(1, n):\n",
    "        M[i][0] =  gap_cost * i\n",
    "    for j in range(1, m):\n",
    "        M[0][j] =  gap_cost * j\n",
    "    for i in range(1, n):\n",
    "        for j in range(1, m):\n",
    "            substitution_cost = substitution_matrix[seq1[i-1]][seq2[j-1]]\n",
    "            M[i][j] = max(M[i-1][j-1] + substitution_cost, M[i][j-1] + gap_cost, M[i-1][j] + gap_cost)\n",
    "    return M[n-1][m-1], M\n",
    "    \n",
    "print(global_gap_cost_matrix('AATAAT', 'AAGG', -5, substitution_matrix))\n",
    "print(global_gap_cost_matrix('AATAAT', 'AAGG', 0, substitution_matrix))"
   ]
  },
  {
   "attachments": {},
   "cell_type": "markdown",
   "metadata": {},
   "source": [
    "Exercise 3.2\n",
    "Explain how to find the optimal cost of a local alignment of two sequences A[1..n] and B[1..m] in time O(nm) and space O(n).\n",
    "\n",
    "Let us say that the A[h+1..i*] and B[k+1..j*] is a pair of segments with maximum similarity, i.e. their similarity is the cost of an optimal local alignment of A[1..n] and B[1..m]. Explain how to find (i*,j*) and (h,k) in linear space. Finding (i*,j*) should be easy, but you may have to think about how to find (h,k) in linear space.\n",
    "\n",
    "Explain how to a find an optimal local alignment of two sequences A[1..n] and B[1..m] in time O(nm) and space O(n)."
   ]
  },
  {
   "attachments": {},
   "cell_type": "markdown",
   "metadata": {},
   "source": [
    "ANSWER:\n"
   ]
  },
  {
   "attachments": {},
   "cell_type": "markdown",
   "metadata": {},
   "source": [
    "Exercise 3.3\n",
    "Can Hirschberg's idea for finding an optimal alignment of A[1..n] and B[1..m] with linear gapcost in time O(nm) and space O(n) be extended to find an optimal alignment of A and B with affine gapcost in time O(nm) and space O(n)? Are there any problems?\n"
   ]
  },
  {
   "attachments": {},
   "cell_type": "markdown",
   "metadata": {},
   "source": [
    "ANSWER: Yes we would have problems implimenting his idear because: there could be overlapping gaps across the middle, which we could have a hard time keeping track off."
   ]
  },
  {
   "attachments": {},
   "cell_type": "markdown",
   "metadata": {},
   "source": [
    "Exercise 3.5\n",
    "Sometimes one is interested in finding an optimal global alignment with atmost k gap blocks (where a gap block is a consecutive block of gaps in one sequence, see slides fx about affine gapcost). Design an algorithm which given two sequence A[1..n] and B[1..m], a score matrix and linear gapcost, and a number k, computes the optimal cost of a global alignment of A and B containing at most k gap blocks. What is the running time and space consumption of your algorithm?"
   ]
  },
  {
   "attachments": {},
   "cell_type": "markdown",
   "metadata": {},
   "source": [
    "WRONG BUt COOL"
   ]
  },
  {
   "cell_type": "code",
   "execution_count": 8,
   "metadata": {},
   "outputs": [
    {
     "name": "stdout",
     "output_type": "stream",
     "text": [
      "(44.0, array([[  0.,  -5., -10., -15., -20., -25., -30.],\n",
      "       [ -5.,  10.,   5.,   0.,   0.,   0.,   0.],\n",
      "       [-10.,   5.,  20.,  15.,  10.,   0.,   0.],\n",
      "       [-15.,   0.,  15.,  22.,  17.,  12.,   0.],\n",
      "       [-20.,   0.,  10.,  20.,  32.,  27.,  22.],\n",
      "       [-25.,   0.,   0.,  15.,  30.,  42.,  37.],\n",
      "       [-30.,   0.,   0.,   0.,  25.,  37.,  44.]]))\n"
     ]
    }
   ],
   "source": [
    "\n",
    "def inside_k_band(i,j,k):\n",
    "    \"\"\" This function takes two indices i and j and a band width k and returns True if i and j are inside the band and False otherwise. \"\"\"\n",
    "    if i-j <= k and i-j >= -k:\n",
    "        return True\n",
    "    else:\n",
    "        return False\n",
    "\n",
    "\n",
    "def global_allignmen_k_gap_blocks(seq1:str, seq2:str, gap_cost:int, substitution_matrix:dict, k:int):\n",
    "    \"\"\" This function takes two sequences, a gap cost and a substitution matrix and returns the cost matrix for the alignment of the two sequences. \"\"\"\n",
    "    n = len(seq1) + 1\n",
    "    m = len(seq2) + 1\n",
    "    # Initialize the matrices\n",
    "    M = np.zeros((n, m))\n",
    "    for i in range(1, n):\n",
    "        M[i][0] =  gap_cost * i\n",
    "    for j in range(1, m):\n",
    "        M[0][j] =  gap_cost * j\n",
    "    for i in range(1, n):\n",
    "        for j in range(1, m):\n",
    "            substitution_cost = substitution_matrix[seq1[i-1]][seq2[j-1]]\n",
    "            if inside_k_band(i-1,j,k):\n",
    "                M[i][j] = max(M[i-1][j-1] + substitution_cost, M[i-1][j] + gap_cost)\n",
    "            elif inside_k_band(i,j-1,k):\n",
    "                M[i][j] = max(M[i-1][j-1] + substitution_cost, M[i][j-1] + gap_cost)\n",
    "    return M[n-1][m-1], M\n",
    "\n",
    "print(global_allignmen_k_gap_blocks('AATAAT', 'AAGAAG', -5, substitution_matrix,1))"
   ]
  },
  {
   "attachments": {},
   "cell_type": "markdown",
   "metadata": {},
   "source": [
    "running time answer:\n",
    "o(n*m) worst case \n",
    "if the differences is bounded by a constant we can get armortized o(n) (apparently)\n",
    "\n",
    "We can use the KBand algorithm as a fast method for finding highidentity alignments:\n",
    "• If we know that the two input sequences are highly similar and we\n",
    "have a bound b on the number of gaps that will occur in the best\n",
    "alignment, then the KBand algorithm with k = b will compute an\n",
    "• optimal alignment"
   ]
  },
  {
   "attachments": {},
   "cell_type": "markdown",
   "metadata": {},
   "source": [
    "Exercise 3.6\n",
    "Running time in practice vs theory: Say that you have implemented an algorithm, fx the algorithm for computing the optimal cost of a global pairwise alignment with linear gap cost of two strings of lengths n and m, which has an asymptotic worst case time complexity of O(nm). What does this mean, and how would you verify that the running time of your implementation in practice is as expected cf. its theoretical (worst case) time complexity?\n",
    "\n"
   ]
  }
 ],
 "metadata": {
  "kernelspec": {
   "display_name": "base",
   "language": "python",
   "name": "python3"
  },
  "language_info": {
   "codemirror_mode": {
    "name": "ipython",
    "version": 3
   },
   "file_extension": ".py",
   "mimetype": "text/x-python",
   "name": "python",
   "nbconvert_exporter": "python",
   "pygments_lexer": "ipython3",
   "version": "3.9.16"
  },
  "orig_nbformat": 4,
  "vscode": {
   "interpreter": {
    "hash": "b51e41c78b452a221c33d206c43f56fa3eb9b6d5b214a94d474df96be263b739"
   }
  }
 },
 "nbformat": 4,
 "nbformat_minor": 2
}
